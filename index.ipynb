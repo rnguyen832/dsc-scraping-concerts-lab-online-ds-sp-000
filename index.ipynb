{
 "cells": [
  {
   "cell_type": "markdown",
   "metadata": {},
   "source": [
    "# Scraping Concerts - Lab\n",
    "\n",
    "## Introduction\n",
    "\n",
    "Now that you've seen how to scrape a simple website, it's time to again practice those skills on a full-fledged site!\n",
    "In this lab, you'll practice your scraping skills on a music website: https://www.residentadvisor.net.\n",
    "## Objectives\n",
    "\n",
    "You will be able to:\n",
    "* Create a full scraping pipeline that involves traversing over many pages of a website, dealing with errors and storing data"
   ]
  },
  {
   "cell_type": "markdown",
   "metadata": {},
   "source": [
    "## View the Website\n",
    "\n",
    "For this lab, you'll be scraping the https://www.residentadvisor.net website. Start by navigating to the events page [here](https://www.residentadvisor.net/events) in your browser.\n",
    "\n",
    "<img src=\"images/ra.png\">"
   ]
  },
  {
   "cell_type": "code",
   "execution_count": 1,
   "metadata": {},
   "outputs": [],
   "source": [
    "# Load the https://www.residentadvisor.net/events page in your browser.\n",
    "import re\n",
    "import requests\n",
    "from bs4 import BeautifulSoup\n",
    "import pandas as pd\n",
    "import numpy as np\n",
    "import time"
   ]
  },
  {
   "cell_type": "markdown",
   "metadata": {},
   "source": [
    "## Open the Inspect Element Feature\n",
    "\n",
    "Next, open the inspect element feature from your web browser in order to preview the underlying HTML associated with the page."
   ]
  },
  {
   "cell_type": "code",
   "execution_count": null,
   "metadata": {},
   "outputs": [],
   "source": [
    "# Open the inspect element feature in your browser"
   ]
  },
  {
   "cell_type": "markdown",
   "metadata": {},
   "source": [
    "## Write a Function to Scrape all of the Events on the Given Page Events Page\n",
    "\n",
    "The function should return a Pandas DataFrame with columns for the Event_Name, Venue, Event_Date and Number_of_Attendees."
   ]
  },
  {
   "cell_type": "code",
   "execution_count": 2,
   "metadata": {},
   "outputs": [],
   "source": [
    "def scrape_events(events_page_url):\n",
    "    #Your code here\n",
    "    url_get = requests.get(events_page_url)\n",
    "    soup = BeautifulSoup(url_get.content, \"html.parser\")\n",
    "    events = soup.find(\"div\", id=\"event-listing\").findAll(\"li\")\n",
    "    rows = []\n",
    "    \n",
    "    for event in events:\n",
    "            eventDate = event.find(\"p\", class_=\"eventDate date\")\n",
    "            title = event.find(\"h1\", class_=\"event-title\")\n",
    "\n",
    "            if title:\n",
    "                name  = title.text.split(\" at \")[0]\n",
    "                venue = title.text.split(\" at \")[1]\n",
    "                try:\n",
    "                    attending = int(re.match(\"(\\d*)\", \n",
    "                                             event.find('p', class_=\"attending\").text)[0])\n",
    "                except:\n",
    "                    attending = np.nan\n",
    "                rows.append([name, venue, date, attending])\n",
    "            elif eventDate:\n",
    "                try:\n",
    "                    date = eventDate.text\n",
    "                except:\n",
    "                    continue\n",
    "            else:\n",
    "                continue\n",
    "            \n",
    "    df = pd.DataFrame(rows)\n",
    "    df.columns = ['Event_Name', 'Venue', 'Event_Date', 'Number_of_Attendees']\n",
    "    return df"
   ]
  },
  {
   "cell_type": "code",
   "execution_count": 3,
   "metadata": {},
   "outputs": [
    {
     "data": {
      "text/html": [
       "<div>\n",
       "<style scoped>\n",
       "    .dataframe tbody tr th:only-of-type {\n",
       "        vertical-align: middle;\n",
       "    }\n",
       "\n",
       "    .dataframe tbody tr th {\n",
       "        vertical-align: top;\n",
       "    }\n",
       "\n",
       "    .dataframe thead th {\n",
       "        text-align: right;\n",
       "    }\n",
       "</style>\n",
       "<table border=\"1\" class=\"dataframe\">\n",
       "  <thead>\n",
       "    <tr style=\"text-align: right;\">\n",
       "      <th></th>\n",
       "      <th>Event_Name</th>\n",
       "      <th>Venue</th>\n",
       "      <th>Event_Date</th>\n",
       "      <th>Number_of_Attendees</th>\n",
       "    </tr>\n",
       "  </thead>\n",
       "  <tbody>\n",
       "    <tr>\n",
       "      <td>0</td>\n",
       "      <td>Mor Elian by BauHaus Houston</td>\n",
       "      <td>Bauhaus, Houston</td>\n",
       "      <td>Fri, 20 Dec 2019 /</td>\n",
       "      <td>4.0</td>\n",
       "    </tr>\n",
       "    <tr>\n",
       "      <td>1</td>\n",
       "      <td>DeepAUS presents: End of the Decade After Part...</td>\n",
       "      <td>TBA - Austin, Austin</td>\n",
       "      <td>Sat, 21 Dec 2019 /</td>\n",
       "      <td>2.0</td>\n",
       "    </tr>\n",
       "    <tr>\n",
       "      <td>2</td>\n",
       "      <td>Erick Rosales</td>\n",
       "      <td>Bauhaus, Houston</td>\n",
       "      <td>Sat, 21 Dec 2019 /</td>\n",
       "      <td>2.0</td>\n",
       "    </tr>\n",
       "    <tr>\n",
       "      <td>3</td>\n",
       "      <td>House of Tones presents: Sandy Rivera &amp; GAWP</td>\n",
       "      <td>The Parish, Austin</td>\n",
       "      <td>Sat, 21 Dec 2019 /</td>\n",
       "      <td>1.0</td>\n",
       "    </tr>\n",
       "    <tr>\n",
       "      <td>4</td>\n",
       "      <td>SHADED</td>\n",
       "      <td>Vulcan Gas Company, Austin</td>\n",
       "      <td>Sat, 21 Dec 2019 /</td>\n",
       "      <td>1.0</td>\n",
       "    </tr>\n",
       "    <tr>\n",
       "      <td>5</td>\n",
       "      <td>Gritsy presents Sicaria Sound</td>\n",
       "      <td>The Dive, Houston</td>\n",
       "      <td>Sat, 21 Dec 2019 /</td>\n",
       "      <td>NaN</td>\n",
       "    </tr>\n",
       "  </tbody>\n",
       "</table>\n",
       "</div>"
      ],
      "text/plain": [
       "                                          Event_Name  \\\n",
       "0                       Mor Elian by BauHaus Houston   \n",
       "1  DeepAUS presents: End of the Decade After Part...   \n",
       "2                                      Erick Rosales   \n",
       "3       House of Tones presents: Sandy Rivera & GAWP   \n",
       "4                                             SHADED   \n",
       "5                      Gritsy presents Sicaria Sound   \n",
       "\n",
       "                        Venue          Event_Date  Number_of_Attendees  \n",
       "0            Bauhaus, Houston  Fri, 20 Dec 2019 /                  4.0  \n",
       "1        TBA - Austin, Austin  Sat, 21 Dec 2019 /                  2.0  \n",
       "2            Bauhaus, Houston  Sat, 21 Dec 2019 /                  2.0  \n",
       "3          The Parish, Austin  Sat, 21 Dec 2019 /                  1.0  \n",
       "4  Vulcan Gas Company, Austin  Sat, 21 Dec 2019 /                  1.0  \n",
       "5           The Dive, Houston  Sat, 21 Dec 2019 /                  NaN  "
      ]
     },
     "execution_count": 3,
     "metadata": {},
     "output_type": "execute_result"
    }
   ],
   "source": [
    "scrape_events(\"https://www.residentadvisor.net/events\")"
   ]
  },
  {
   "cell_type": "markdown",
   "metadata": {},
   "source": [
    "## Write a Function to Retrieve the URL for the Next Page"
   ]
  },
  {
   "cell_type": "code",
   "execution_count": 4,
   "metadata": {},
   "outputs": [],
   "source": [
    "def next_page(url):\n",
    "    #Your code here\n",
    "    url_get = requests.get(url)\n",
    "    soup = BeautifulSoup(url_get.content, \"html.parser\")\n",
    "    url_next = soup.find(\"a\", attrs={\"ga-event-action\":\"Next \"}).attrs[\"href\"]\n",
    "    next_page = \"https://www.residentadvisor.net\" + url_next\n",
    "    return next_page"
   ]
  },
  {
   "cell_type": "markdown",
   "metadata": {},
   "source": [
    "## Scrape the Next 1000 Events for Your Area\n",
    "\n",
    "Display the data sorted by the number of attendees. If there is a tie for the number attending, sort by event date."
   ]
  },
  {
   "cell_type": "code",
   "execution_count": 5,
   "metadata": {},
   "outputs": [
    {
     "name": "stdout",
     "output_type": "stream",
     "text": [
      "22\n"
     ]
    },
    {
     "data": {
      "text/html": [
       "<div>\n",
       "<style scoped>\n",
       "    .dataframe tbody tr th:only-of-type {\n",
       "        vertical-align: middle;\n",
       "    }\n",
       "\n",
       "    .dataframe tbody tr th {\n",
       "        vertical-align: top;\n",
       "    }\n",
       "\n",
       "    .dataframe thead th {\n",
       "        text-align: right;\n",
       "    }\n",
       "</style>\n",
       "<table border=\"1\" class=\"dataframe\">\n",
       "  <thead>\n",
       "    <tr style=\"text-align: right;\">\n",
       "      <th></th>\n",
       "      <th>Event_Name</th>\n",
       "      <th>Venue</th>\n",
       "      <th>Event_Date</th>\n",
       "      <th>Number_of_Attendees</th>\n",
       "    </tr>\n",
       "  </thead>\n",
       "  <tbody>\n",
       "    <tr>\n",
       "      <td>2</td>\n",
       "      <td>Bas_mrkt 2020 NYE! Barbuto, Sara Landry, Nymbl...</td>\n",
       "      <td>The Oven, Austin</td>\n",
       "      <td>Tue, 31 Dec 2019 /</td>\n",
       "      <td>23.0</td>\n",
       "    </tr>\n",
       "    <tr>\n",
       "      <td>0</td>\n",
       "      <td>Mor Elian by BauHaus Houston</td>\n",
       "      <td>Bauhaus, Houston</td>\n",
       "      <td>Fri, 20 Dec 2019 /</td>\n",
       "      <td>4.0</td>\n",
       "    </tr>\n",
       "    <tr>\n",
       "      <td>0</td>\n",
       "      <td>Debbie Does Disco: Disco Dive Sessions PT. 5</td>\n",
       "      <td>Tradewinds Social Club, Dallas/Fort Worth</td>\n",
       "      <td>Fri, 27 Dec 2019 /</td>\n",
       "      <td>4.0</td>\n",
       "    </tr>\n",
       "    <tr>\n",
       "      <td>1</td>\n",
       "      <td>Midwest Sessions, 4yr Anniversary with Red Eye</td>\n",
       "      <td>Plush, Austin</td>\n",
       "      <td>Fri, 27 Dec 2019 /</td>\n",
       "      <td>3.0</td>\n",
       "    </tr>\n",
       "    <tr>\n",
       "      <td>1</td>\n",
       "      <td>Lunar Eclipse: A Drone Night</td>\n",
       "      <td>523 Thompson Warehouse, Austin</td>\n",
       "      <td>Fri, 10 Jan 2020 /</td>\n",
       "      <td>2.0</td>\n",
       "    </tr>\n",
       "  </tbody>\n",
       "</table>\n",
       "</div>"
      ],
      "text/plain": [
       "                                          Event_Name  \\\n",
       "2  Bas_mrkt 2020 NYE! Barbuto, Sara Landry, Nymbl...   \n",
       "0                       Mor Elian by BauHaus Houston   \n",
       "0       Debbie Does Disco: Disco Dive Sessions PT. 5   \n",
       "1     Midwest Sessions, 4yr Anniversary with Red Eye   \n",
       "1                       Lunar Eclipse: A Drone Night   \n",
       "\n",
       "                                       Venue          Event_Date  \\\n",
       "2                           The Oven, Austin  Tue, 31 Dec 2019 /   \n",
       "0                           Bauhaus, Houston  Fri, 20 Dec 2019 /   \n",
       "0  Tradewinds Social Club, Dallas/Fort Worth  Fri, 27 Dec 2019 /   \n",
       "1                              Plush, Austin  Fri, 27 Dec 2019 /   \n",
       "1             523 Thompson Warehouse, Austin  Fri, 10 Jan 2020 /   \n",
       "\n",
       "   Number_of_Attendees  \n",
       "2                 23.0  \n",
       "0                  4.0  \n",
       "0                  4.0  \n",
       "1                  3.0  \n",
       "1                  2.0  "
      ]
     },
     "execution_count": 5,
     "metadata": {},
     "output_type": "execute_result"
    }
   ],
   "source": [
    "#Your code here\n",
    "df_list = []\n",
    "rows = 0\n",
    "url = \"https://www.residentadvisor.net/events/us/texas\"\n",
    "\n",
    "while rows <= 1000:\n",
    "    try:\n",
    "        df = scrape_events(url)\n",
    "        df_list.append(df)\n",
    "        rows += len(df)\n",
    "        url = next_page(url)\n",
    "        time.sleep(1)\n",
    "    except:\n",
    "        rows = 1001\n",
    "df = pd.concat(df_list)\n",
    "df = df.iloc[:1000].sort_values(by=['Number_of_Attendees', 'Event_Date'], \n",
    "                                ascending=[False, True])\n",
    "print(len(df))\n",
    "df.head()"
   ]
  },
  {
   "cell_type": "markdown",
   "metadata": {},
   "source": [
    "## Summary \n",
    "\n",
    "Congratulations! In this lab, you successfully developed a pipeline to scrape a website for concert event information!"
   ]
  }
 ],
 "metadata": {
  "kernelspec": {
   "display_name": "Python 3",
   "language": "python",
   "name": "python3"
  },
  "language_info": {
   "codemirror_mode": {
    "name": "ipython",
    "version": 3
   },
   "file_extension": ".py",
   "mimetype": "text/x-python",
   "name": "python",
   "nbconvert_exporter": "python",
   "pygments_lexer": "ipython3",
   "version": "3.7.4"
  }
 },
 "nbformat": 4,
 "nbformat_minor": 2
}
